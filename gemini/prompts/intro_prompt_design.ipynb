{
  "cells": [
    {
      "cell_type": "markdown",
      "metadata": {
        "id": "view-in-github",
        "colab_type": "text"
      },
      "source": [
        "<a href=\"https://colab.research.google.com/github/less-exelant/DataPlotly/blob/master/gemini/prompts/intro_prompt_design.ipynb\" target=\"_parent\"><img src=\"https://colab.research.google.com/assets/colab-badge.svg\" alt=\"Open In Colab\"/></a>"
      ]
    },
    {
      "cell_type": "code",
      "execution_count": null,
      "metadata": {
        "id": "ur8xi4C7S06n"
      },
      "outputs": [],
      "source": [
        "# Copyright 2024 Google LLC\n",
        "#\n",
        "# Licensed under the Apache License, Version 2.0 (the \"License\");\n",
        "# you may not use this file except in compliance with the License.\n",
        "# You may obtain a copy of the License at\n",
        "#\n",
        "#     https://www.apache.org/licenses/LICENSE-2.0\n",
        "#\n",
        "# Unless required by applicable law or agreed to in writing, software\n",
        "# distributed under the License is distributed on an \"AS IS\" BASIS,\n",
        "# WITHOUT WARRANTIES OR CONDITIONS OF ANY KIND, either express or implied.\n",
        "# See the License for the specific language governing permissions and\n",
        "# limitations under the License."
      ]
    },
    {
      "cell_type": "markdown",
      "metadata": {
        "id": "JAPoU8Sm5E6e"
      },
      "source": [
        "# Prompt Design - Best Practices\n",
        "\n",
        "<table align=\"left\">\n",
        "  <td style=\"text-align: center\">\n",
        "    <a href=\"https://colab.research.google.com/github/GoogleCloudPlatform/generative-ai/blob/main/gemini/prompts/intro_prompt_design.ipynb\">\n",
        "      <img src=\"https://cloud.google.com/ml-engine/images/colab-logo-32px.png\" alt=\"Google Colaboratory logo\"><br> Open in Colab\n",
        "    </a>\n",
        "  </td>\n",
        "  <td style=\"text-align: center\">\n",
        "    <a href=\"https://console.cloud.google.com/vertex-ai/colab/import/https:%2F%2Fraw.githubusercontent.com%2FGoogleCloudPlatform%2Fgenerative-ai%2Fmain%2Fgemini%2Fprompts%2Fintro_prompt_design.ipynb\">\n",
        "      <img width=\"32px\" src=\"https://lh3.googleusercontent.com/JmcxdQi-qOpctIvWKgPtrzZdJJK-J3sWE1RsfjZNwshCFgE_9fULcNpuXYTilIR2hjwN\" alt=\"Google Cloud Colab Enterprise logo\"><br> Open in Colab Enterprise\n",
        "    </a>\n",
        "  </td>    \n",
        "  <td style=\"text-align: center\">\n",
        "    <a href=\"https://console.cloud.google.com/vertex-ai/workbench/deploy-notebook?download_url=https://raw.githubusercontent.com/GoogleCloudPlatform/generative-ai/main/gemini/prompts/intro_prompt_design.ipynb\">\n",
        "      <img src=\"https://lh3.googleusercontent.com/UiNooY4LUgW_oTvpsNhPpQzsstV5W8F7rYgxgGBD85cWJoLmrOzhVs_ksK_vgx40SHs7jCqkTkCk=e14-rj-sc0xffffff-h130-w32\" alt=\"Vertex AI logo\"><br> Open in Workbench\n",
        "    </a>\n",
        "  </td>\n",
        "  <td style=\"text-align: center\">\n",
        "    <a href=\"https://github.com/GoogleCloudPlatform/generative-ai/blob/main/gemini/prompts/intro_prompt_design.ipynb\">\n",
        "      <img src=\"https://cloud.google.com/ml-engine/images/github-logo-32px.png\" alt=\"GitHub logo\"><br> View on GitHub\n",
        "    </a>\n",
        "  </td>\n",
        "  <td style=\"text-align: center\">\n",
        "    <a href=\"https://goo.gle/4fWHlze\">\n",
        "      <img width=\"32px\" src=\"https://cdn.qwiklabs.com/assets/gcp_cloud-e3a77215f0b8bfa9b3f611c0d2208c7e8708ed31.svg\" alt=\"Google Cloud logo\"><br> Open in  Cloud Skills Boost\n",
        "    </a>\n",
        "  </td>\n",
        "</table>\n",
        "\n",
        "<div style=\"clear: both;\"></div>\n",
        "\n",
        "<b>Share to:</b>\n",
        "\n",
        "<a href=\"https://www.linkedin.com/sharing/share-offsite/?url=https%3A//github.com/GoogleCloudPlatform/generative-ai/blob/main/gemini/prompts/intro_prompt_design.ipynb\" target=\"_blank\">\n",
        "  <img width=\"20px\" src=\"https://upload.wikimedia.org/wikipedia/commons/8/81/LinkedIn_icon.svg\" alt=\"LinkedIn logo\">\n",
        "</a>\n",
        "\n",
        "<a href=\"https://bsky.app/intent/compose?text=https%3A//github.com/GoogleCloudPlatform/generative-ai/blob/main/gemini/prompts/intro_prompt_design.ipynb\" target=\"_blank\">\n",
        "  <img width=\"20px\" src=\"https://upload.wikimedia.org/wikipedia/commons/7/7a/Bluesky_Logo.svg\" alt=\"Bluesky logo\">\n",
        "</a>\n",
        "\n",
        "<a href=\"https://twitter.com/intent/tweet?url=https%3A//github.com/GoogleCloudPlatform/generative-ai/blob/main/gemini/prompts/intro_prompt_design.ipynb\" target=\"_blank\">\n",
        "  <img width=\"20px\" src=\"https://upload.wikimedia.org/wikipedia/commons/5/5a/X_icon_2.svg\" alt=\"X logo\">\n",
        "</a>\n",
        "\n",
        "<a href=\"https://reddit.com/submit?url=https%3A//github.com/GoogleCloudPlatform/generative-ai/blob/main/gemini/prompts/intro_prompt_design.ipynb\" target=\"_blank\">\n",
        "  <img width=\"20px\" src=\"https://redditinc.com/hubfs/Reddit%20Inc/Brand/Reddit_Logo.png\" alt=\"Reddit logo\">\n",
        "</a>\n",
        "\n",
        "<a href=\"https://www.facebook.com/sharer/sharer.php?u=https%3A//github.com/GoogleCloudPlatform/generative-ai/blob/main/gemini/prompts/intro_prompt_design.ipynb\" target=\"_blank\">\n",
        "  <img width=\"20px\" src=\"https://upload.wikimedia.org/wikipedia/commons/5/51/Facebook_f_logo_%282019%29.svg\" alt=\"Facebook logo\">\n",
        "</a>            "
      ]
    },
    {
      "cell_type": "markdown",
      "metadata": {
        "id": "84f0f73a0f76"
      },
      "source": [
        "| | |\n",
        "|-|-|\n",
        "|Author(s) | [Polong Lin](https://github.com/polong-lin), [Karl Weinmeister](https://github.com/kweinmeister) |"
      ]
    },
    {
      "cell_type": "markdown",
      "metadata": {
        "id": "tvgnzT1CKxrO"
      },
      "source": [
        "## Overview\n",
        "\n",
        "This notebook covers the essentials of prompt engineering, including some best practices.\n",
        "\n",
        "Learn more about prompt design in the [official documentation](https://cloud.google.com/vertex-ai/docs/generative-ai/text/text-overview).\n",
        "\n",
        "In this notebook, you learn best practices around prompt engineering -- how to design prompts to improve the quality of your responses.\n",
        "\n",
        "This notebook covers the following best practices for prompt engineering:\n",
        "\n",
        "- Be concise\n",
        "- Be specific and well-defined\n",
        "- Ask one task at a time\n",
        "- Turn generative tasks into classification tasks\n",
        "- Improve response quality by including examples"
      ]
    },
    {
      "cell_type": "markdown",
      "metadata": {
        "id": "61RBz8LLbxCR"
      },
      "source": [
        "## Getting Started"
      ]
    },
    {
      "cell_type": "markdown",
      "metadata": {
        "id": "No17Cw5hgx12"
      },
      "source": [
        "### Install Google Gen AI SDK\n"
      ]
    },
    {
      "cell_type": "code",
      "execution_count": 1,
      "metadata": {
        "id": "tFy3H3aPgx12",
        "colab": {
          "base_uri": "https://localhost:8080/"
        },
        "outputId": "ebd67814-2036-4613-e783-abd638852c57"
      },
      "outputs": [
        {
          "output_type": "stream",
          "name": "stdout",
          "text": [
            "\u001b[?25l   \u001b[90m━━━━━━━━━━━━━━━━━━━━━━━━━━━━━━━━━━━━━━━━\u001b[0m \u001b[32m0.0/159.7 kB\u001b[0m \u001b[31m?\u001b[0m eta \u001b[36m-:--:--\u001b[0m\r\u001b[2K   \u001b[90m━━━━━━━━━━━━━━━━━━━━━━━━━━━━━━━━━━━━━━━━\u001b[0m \u001b[32m159.7/159.7 kB\u001b[0m \u001b[31m6.6 MB/s\u001b[0m eta \u001b[36m0:00:00\u001b[0m\n",
            "\u001b[?25h"
          ]
        }
      ],
      "source": [
        "%pip install --upgrade --quiet google-genai"
      ]
    },
    {
      "cell_type": "markdown",
      "metadata": {
        "id": "R5Xep4W9lq-Z"
      },
      "source": [
        "### Restart runtime\n",
        "\n",
        "To use the newly installed packages in this Jupyter runtime, you must restart the runtime. You can do this by running the cell below, which will restart the current kernel."
      ]
    },
    {
      "cell_type": "code",
      "execution_count": 2,
      "metadata": {
        "id": "XRvKdaPDTznN",
        "colab": {
          "base_uri": "https://localhost:8080/"
        },
        "outputId": "4e646c17-2a74-41ff-ad07-a6df453c8070"
      },
      "outputs": [
        {
          "output_type": "execute_result",
          "data": {
            "text/plain": [
              "{'status': 'ok', 'restart': True}"
            ]
          },
          "metadata": {},
          "execution_count": 2
        }
      ],
      "source": [
        "import IPython\n",
        "\n",
        "app = IPython.Application.instance()\n",
        "app.kernel.do_shutdown(True)"
      ]
    },
    {
      "cell_type": "markdown",
      "metadata": {
        "id": "SbmM4z7FOBpM"
      },
      "source": [
        "<div class=\"alert alert-block alert-warning\">\n",
        "<b>⚠️ The kernel is going to restart. Please wait until it is finished before continuing to the next step. ⚠️</b>\n",
        "</div>\n"
      ]
    },
    {
      "cell_type": "markdown",
      "metadata": {
        "id": "dmWOrTJ3gx13"
      },
      "source": [
        "### Authenticate your notebook environment (Colab only)\n",
        "\n",
        "Authenticate your environment on Google Colab.\n"
      ]
    },
    {
      "cell_type": "code",
      "execution_count": 1,
      "metadata": {
        "id": "NyKGtVQjgx13"
      },
      "outputs": [],
      "source": [
        "import sys\n",
        "\n",
        "if \"google.colab\" in sys.modules:\n",
        "    from google.colab import auth\n",
        "\n",
        "    auth.authenticate_user()"
      ]
    },
    {
      "cell_type": "markdown",
      "metadata": {
        "id": "06489bd14f16"
      },
      "source": [
        "### Import libraries\n"
      ]
    },
    {
      "cell_type": "code",
      "execution_count": 2,
      "metadata": {
        "id": "154137022fb6"
      },
      "outputs": [],
      "source": [
        "from IPython.display import Markdown, display\n",
        "from google import genai\n",
        "from google.genai.types import GenerateContentConfig"
      ]
    },
    {
      "cell_type": "markdown",
      "metadata": {
        "id": "DF4l8DTdWgPY"
      },
      "source": [
        "### Set Google Cloud project information and create client\n",
        "\n",
        "To get started using Vertex AI, you must have an existing Google Cloud project and [enable the Vertex AI API](https://console.cloud.google.com/flows/enableapi?apiid=aiplatform.googleapis.com).\n",
        "\n",
        "Learn more about [setting up a project and a development environment](https://cloud.google.com/vertex-ai/docs/start/cloud-environment)."
      ]
    },
    {
      "cell_type": "code",
      "execution_count": 3,
      "metadata": {
        "id": "Nqwi-5ufWp_B"
      },
      "outputs": [],
      "source": [
        "import os\n",
        "\n",
        "PROJECT_ID = \"admin-455601\"  # @param {type: \"string\", placeholder: \"[your-project-id]\", isTemplate: true}\n",
        "if not PROJECT_ID or PROJECT_ID == \"[your-project-id]\":\n",
        "    PROJECT_ID = str(os.environ.get(\"GOOGLE_CLOUD_PROJECT\"))\n",
        "\n",
        "LOCATION = os.environ.get(\"GOOGLE_CLOUD_REGION\", \"us-central1\")"
      ]
    },
    {
      "cell_type": "code",
      "execution_count": 6,
      "metadata": {
        "id": "QqRWdPGmW3NJ"
      },
      "outputs": [],
      "source": [
        "client = genai.Client(vertexai=True, project=PROJECT_ID, location=LOCATION)"
      ]
    },
    {
      "cell_type": "markdown",
      "metadata": {
        "id": "OnFPpCRtXRl4"
      },
      "source": [
        "### Load model\n",
        "\n",
        "Learn more about all [Gemini models on Vertex AI](https://cloud.google.com/vertex-ai/generative-ai/docs/learn/models#gemini-models)."
      ]
    },
    {
      "cell_type": "code",
      "execution_count": 7,
      "metadata": {
        "id": "IQYu_9SvXQah"
      },
      "outputs": [],
      "source": [
        "MODEL_ID = \"gemini-2.0-flash-001\"  # @param {type: \"string\"}"
      ]
    },
    {
      "cell_type": "markdown",
      "metadata": {
        "id": "cVOtUNJ5X0PY"
      },
      "source": [
        "## Prompt engineering best practices"
      ]
    },
    {
      "cell_type": "markdown",
      "metadata": {
        "id": "uv_e0fEPX60q"
      },
      "source": [
        "Prompt engineering is all about how to design your prompts so that the response is what you were indeed hoping to see.\n",
        "\n",
        "The idea of using \"unfancy\" prompts is to minimize the noise in your prompt to reduce the possibility of the LLM misinterpreting the intent of the prompt. Below are a few guidelines on how to engineer \"unfancy\" prompts.\n",
        "\n",
        "In this section, you'll cover the following best practices when engineering prompts:\n",
        "\n",
        "* Be concise\n",
        "* Be specific, and well-defined\n",
        "* Ask one task at a time\n",
        "* Improve response quality by including examples\n",
        "* Turn generative tasks to classification tasks to improve safety"
      ]
    },
    {
      "cell_type": "markdown",
      "metadata": {
        "id": "0pY4XX0OX9_Y"
      },
      "source": [
        "### Be concise"
      ]
    },
    {
      "cell_type": "markdown",
      "metadata": {
        "id": "xlRpxyxGYA1K"
      },
      "source": [
        "🛑 Not recommended. The prompt below is unnecessarily verbose."
      ]
    },
    {
      "cell_type": "code",
      "execution_count": 8,
      "metadata": {
        "id": "YKV4G-CfXdbi",
        "colab": {
          "base_uri": "https://localhost:8080/",
          "height": 703
        },
        "outputId": "f01caa82-5119-45c9-8e85-54c09c3f8545"
      },
      "outputs": [
        {
          "output_type": "display_data",
          "data": {
            "text/plain": [
              "<IPython.core.display.Markdown object>"
            ],
            "text/markdown": "Okay, here are some name ideas for a dried flower shop, playing on different aspects:\n\n**Emphasizing Preservation & Longevity:**\n\n*   **The Everbloom:** Simple, elegant, and clearly conveys lasting beauty.\n*   **Lasting Petals:**  Direct and emphasizes the enduring nature of the flowers.\n*   **The Timeless Bloom:** Similar to Everbloom, but with a more sophisticated feel.\n*   **Preserved Petals:** Straightforward and descriptive.\n*   **Golden Stems:**  Evokes a sense of warmth, maturity, and lasting value.\n*   **Eternal Florals:** Strong and memorable, highlighting the long-lasting quality.\n*   **Still Life Blooms:** Artistic and implies a captured, enduring moment.\n\n**Highlighting Natural & Rustic Elements:**\n\n*   **The Wildflower Stills:** Combines natural beauty with preservation.\n*   **Prairie Dry Goods:** Evokes a sense of rural charm and handmade quality.\n*   **The Rustic Bloom:** Simple, direct, and emphasizes a natural aesthetic.\n*   **Harvest & Bloom:** Suggests a connection to the seasons and natural bounty.\n*   **Sunbaked Florals:** Gives a visual image of dried flowers in the sun.\n*   **Fields of Forever:** Romantic and evokes a sense of endless beauty.\n\n**Emphasizing Artistry & Craft:**\n\n*   **The Dried Bouquet:** Simple, but the added article makes it sound unique.\n*   **Petal & Plume:**  Elegant and suggests texture and artistry.\n*   **The Artful Arrangement:** Highlights the skill and creativity involved.\n*   **Dried & Designed:**  Modern and emphasizes the crafted aspect.\n*   **The Gathered Bloom:**  Suggests curated and thoughtfully arranged flowers.\n*   **Palette Petals:** Focuses on color and the art of arrangement.\n\n**Modern & Chic Names:**\n\n*   **Bloom Haus:**  Modern, minimalist, and a bit trendy.\n*   **The Dry Bloom:**  Short, punchy, and memorable.\n*   **Arid Flora:**  Slightly edgy and unique.\n*   **The Stillroom:**  A play on words, referencing a place for preservation.\n*   **Dust & Bloom:**  Unexpected and intriguing.\n\n**Tips for Choosing a Name:**\n\n*   **Consider your target audience:**  Are you aiming for a high-end clientele or a more casual crowd?\n*   **Check for availability:**  Make sure the name isn't already in use, and that you can secure a website domain and social media handles.\n*   **Say it out loud:**  Does it sound good? Is it easy to pronounce and remember?\n*   **Get feedback:**  Ask friends, family, or potential customers what they think of your top choices.\n\nUltimately, the best name will depend on your specific brand and the aesthetic you want to create. Good luck!\n"
          },
          "metadata": {}
        }
      ],
      "source": [
        "prompt = \"What do you think could be a good name for a flower shop that specializes in selling bouquets of dried flowers more than fresh flowers?\"\n",
        "\n",
        "response = client.models.generate_content(model=MODEL_ID, contents=prompt)\n",
        "display(Markdown(response.text))"
      ]
    },
    {
      "cell_type": "markdown",
      "metadata": {
        "id": "YrJexRHJYnmC"
      },
      "source": [
        "✅ Recommended. The prompt below is to the point and concise."
      ]
    },
    {
      "cell_type": "code",
      "execution_count": 9,
      "metadata": {
        "id": "VHetn9lCYrXB",
        "colab": {
          "base_uri": "https://localhost:8080/",
          "height": 836
        },
        "outputId": "c7405274-4cc6-4a6d-acff-f63f27d1bc92"
      },
      "outputs": [
        {
          "output_type": "display_data",
          "data": {
            "text/plain": [
              "<IPython.core.display.Markdown object>"
            ],
            "text/markdown": "Okay, here are some name suggestions for a dried flower shop, playing on different angles:\n\n**Elegant & Classic:**\n\n*   The Everlasting Bloom\n*   Preserved Petals\n*   The Dried Dahlia\n*   Golden Thistle\n*   Forever Flora\n*   Timeless Blooms\n*   The Herbarium\n\n**Modern & Trendy:**\n\n*   Dried & Dusted\n*   The Still Life Florist\n*   Paper Petals\n*   The Dry Bar\n*   Bloom & Bone (if you have a darker aesthetic)\n*   Desert Bloom\n*   The Artful Stalk\n\n**Nature-Inspired:**\n\n*   Sunbaked Blooms\n*   Wildflower Wisp\n*   Harvest Hues\n*   Prairie Posies\n*   Whispering Grass\n*   The Golden Meadow\n\n**Playful & Unique:**\n\n*   The Petal Pusher (with a dry twist!)\n*   Dust & Bloom\n*   Second Bloom\n*   Pressed\n*   The Dried Bouquet Co.\n*   Still Blooming\n*   Once Upon A Bloom\n\n**Location Specific (Adapt to your area):**\n\n*   (Your Town/Region) Dried Flowers\n*   (Street Name) Blooms\n*   The (Landmark) Bouquet\n\n**Tips for Choosing:**\n\n*   **Consider your target audience:** Are you aiming for a high-end clientele or a more casual customer base?\n*   **Check for availability:** Make sure the name isn't already in use in your area and that you can secure a website domain and social media handles.\n*   **Say it out loud:** Does the name sound good and is it easy to remember?\n*   **Get feedback:** Ask friends and family for their opinions.\n\nGood luck!\n"
          },
          "metadata": {}
        }
      ],
      "source": [
        "prompt = \"Suggest a name for a flower shop that sells bouquets of dried flowers\"\n",
        "\n",
        "response = client.models.generate_content(model=MODEL_ID, contents=prompt)\n",
        "display(Markdown(response.text))"
      ]
    },
    {
      "cell_type": "markdown",
      "metadata": {
        "id": "eXTAvdOHY0OC"
      },
      "source": [
        "### Be specific, and well-defined"
      ]
    },
    {
      "cell_type": "markdown",
      "metadata": {
        "id": "FTH4GEIgY1dp"
      },
      "source": [
        "Suppose that you want to brainstorm creative ways to describe Earth."
      ]
    },
    {
      "cell_type": "markdown",
      "metadata": {
        "id": "o5BmXBiGY4KC"
      },
      "source": [
        "🛑 The prompt below might be a bit too generic (which is certainly OK if you'd like to ask a generic question!)"
      ]
    },
    {
      "cell_type": "code",
      "execution_count": 10,
      "metadata": {
        "id": "eHBaMvv7Y6mR",
        "colab": {
          "base_uri": "https://localhost:8080/",
          "height": 1000
        },
        "outputId": "25f67c20-574c-43c2-b086-3abec71121e1"
      },
      "outputs": [
        {
          "output_type": "display_data",
          "data": {
            "text/plain": [
              "<IPython.core.display.Markdown object>"
            ],
            "text/markdown": "Okay, let's dive into the fascinating world of Earth! Here's a breakdown of key facts and aspects of our home planet:\n\n**Basic Facts:**\n\n*   **Name:** Earth (also referred to as Terra)\n*   **Rank in Solar System (from the Sun):** Third\n*   **Type:** Terrestrial Planet (rocky)\n*   **Diameter:** Approximately 12,742 kilometers (7,918 miles)\n*   **Circumference:** Approximately 40,075 kilometers (24,901 miles)\n*   **Mass:** 5.97 x 10^24 kg\n*   **Density:** The densest planet in our Solar System\n*   **Orbital Period (Year):** 365.25 days (This is why we have leap years!)\n*   **Rotation Period (Day):** 23 hours, 56 minutes, and 4 seconds\n*   **Axial Tilt:** 23.5 degrees (This tilt is the reason for seasons!)\n*   **Atmosphere:** Primarily nitrogen (about 78%) and oxygen (about 21%), with trace amounts of other gases like argon, carbon dioxide, and neon.\n*   **Magnetic Field:** Strong, generated by the movement of molten iron in Earth's outer core. It protects us from harmful solar radiation.\n*   **Satellites:** One natural satellite (the Moon). Thousands of artificial satellites.\n*   **Rings:** None\n\n**Structure:**\n\nEarth has a layered structure:\n\n*   **Inner Core:** Solid iron and nickel. Immense pressure keeps it solid despite the high temperatures.\n*   **Outer Core:** Liquid iron and nickel. The movement of this molten metal is what generates Earth's magnetic field.\n*   **Mantle:** The thickest layer, composed of silicate rocks. It's mostly solid, but behaves like a very viscous fluid over long periods. The asthenosphere (part of the upper mantle) allows tectonic plates to move.\n*   **Crust:** The outermost layer, thin and rocky. There are two types of crust:\n    *   **Oceanic Crust:** Thinner, denser, and composed mainly of basalt.\n    *   **Continental Crust:** Thicker, less dense, and composed mainly of granite.\n\n**Surface Features:**\n\n*   **Continents:** Large landmasses: Africa, Antarctica, Asia, Australia, Europe, North America, and South America.\n*   **Oceans:** Vast bodies of saltwater: Pacific, Atlantic, Indian, Arctic, and Southern Oceans.\n*   **Mountains:** Formed by tectonic plate collisions, volcanic activity, and erosion.\n*   **Valleys:** Depressions in the Earth's surface, often formed by rivers, glaciers, or tectonic activity.\n*   **Deserts:** Arid regions with little precipitation.\n*   **Polar Ice Caps:** Large ice sheets at the North and South Poles.\n*   **Volcanoes:** Openings in the Earth's crust where molten rock (magma) erupts.\n*   **Islands:** Landmasses surrounded by water.\n*   **Lakes:** Large bodies of fresh or saltwater surrounded by land.\n\n**Unique Characteristics:**\n\n*   **Liquid Water:** Earth is the only known planet in our solar system with stable bodies of liquid water on its surface. This is crucial for life as we know it.\n*   **Life:** Earth is the only known planet to harbor life. It's a diverse biosphere with a vast array of organisms, from microscopic bacteria to giant whales.\n*   **Plate Tectonics:** Earth's crust is divided into tectonic plates that are constantly moving and interacting. This process shapes the Earth's surface, causes earthquakes and volcanoes, and recycles materials.\n*   **Atmosphere:** The atmosphere protects us from harmful radiation, regulates temperature, and contains the air we breathe.\n*   **Ozone Layer:** A layer in the stratosphere that absorbs most of the Sun's harmful ultraviolet (UV) radiation.\n*   **The Goldilocks Zone:** Earth orbits the Sun at just the right distance – not too hot, not too cold – allowing liquid water to exist on its surface. This region is known as the habitable zone, or the Goldilocks zone.\n\n**Earth's Climate:**\n\n*   Earth's climate is a complex system influenced by many factors, including the sun, atmosphere, oceans, and landmasses.\n*   Climate change is a major issue, driven by increasing levels of greenhouse gases in the atmosphere due to human activities. This is leading to rising global temperatures, melting glaciers, and changes in weather patterns.\n\n**Interesting Facts:**\n\n*   Earth is not perfectly spherical; it's an oblate spheroid, slightly flattened at the poles and bulging at the equator.\n*   Earth's magnetic field reverses polarity periodically, although the timing of these reversals is unpredictable.\n*   The highest point on Earth is Mount Everest.\n*   The deepest point on Earth is the Mariana Trench.\n\n**Why is Earth Important?**\n\nEarth is our home! Understanding Earth's systems, processes, and challenges is crucial for ensuring a sustainable future for ourselves and future generations.\n"
          },
          "metadata": {}
        }
      ],
      "source": [
        "prompt = \"Tell me about Earth\"\n",
        "\n",
        "response = client.models.generate_content(model=MODEL_ID, contents=prompt)\n",
        "display(Markdown(response.text))"
      ]
    },
    {
      "cell_type": "markdown",
      "metadata": {
        "id": "4iyvEbteZnFL"
      },
      "source": [
        "✅ Recommended. The prompt below is specific and well-defined."
      ]
    },
    {
      "cell_type": "code",
      "execution_count": 11,
      "metadata": {
        "id": "JQ80z8urZnne",
        "colab": {
          "base_uri": "https://localhost:8080/",
          "height": 928
        },
        "outputId": "a8da6dff-23fe-49c9-ac5b-a7d1af2b6a56"
      },
      "outputs": [
        {
          "output_type": "display_data",
          "data": {
            "text/plain": [
              "<IPython.core.display.Markdown object>"
            ],
            "text/markdown": "Okay, here's a list of ways Earth is currently known to be unique compared to other planets we've discovered so far, keeping in mind our understanding is constantly evolving:\n\n**Fundamental Requirements for Life (as we know it):**\n\n*   **Liquid Water on the Surface:** This is perhaps the most defining characteristic. Earth has vast oceans, lakes, rivers, and groundwater. Liquid water is essential for the chemical reactions that support life as we understand it.\n*   **Oxygen-Rich Atmosphere:** Earth's atmosphere is composed of roughly 21% oxygen, which is produced primarily by photosynthetic organisms. This is crucial for complex, energy-intensive life forms like animals. While some other planets have oxygen, they are not in breathable form, or in a high enough concentration.\n*   **Stable Temperature Range:** Earth's distance from the sun, its atmosphere, and its rotation create a temperature range that allows liquid water to exist and supports a diverse range of life.\n*   **Plate Tectonics:** Earth is the only known planet with active plate tectonics. This process recycles the Earth's crust, regulates the carbon cycle, and creates diverse geological features. Plate tectonics play a vital role in long-term climate stability.\n*   **Strong Magnetic Field:** Generated by its molten iron core, Earth's magnetic field deflects harmful solar wind and cosmic radiation, protecting the atmosphere and life on the surface.\n\n**Geological and Chemical Uniqueness:**\n\n*   **Abundant Surface Water:** While other planets may have subsurface water or ice, Earth's abundance of liquid water on the surface is unique.\n*   **Complex Carbon Cycle:** Earth has a complex carbon cycle involving the atmosphere, oceans, land, and living organisms. This cycle regulates the amount of carbon dioxide in the atmosphere, which is a crucial greenhouse gas.\n*   **Geological Activity:** Earth exhibits diverse geological activity, including volcanoes, earthquakes, mountain building, and erosion. This activity creates diverse landscapes and shapes the planet's surface.\n*   **Presence of Life:** While we haven't ruled out the possibility of life elsewhere, Earth is the only planet where we've confirmed its existence. This is a significant difference.\n*   **Complex Ecosystems:** The interaction of living organisms on Earth is complex. These systems include energy cycles, natural disasters that shape the landscape, and more.\n*   **Anhydrous Minerals:** A larger than expected proportion of the Earth's mantle is anhydrous (without hydrogen) compared to theoretical models. This is a puzzle that affects our understanding of the formation of rocky planets.\n\n**Other Factors:**\n\n*   **Large Moon:** Earth has a relatively large moon that stabilizes Earth's axial tilt and influences tides. This stability is thought to be important for the development of complex life.\n*   **\"Goldilocks\" Zone Location:** Earth resides in the \"Goldilocks\" zone of our solar system, where temperatures are just right for liquid water to exist. This is a critical factor for life as we know it.\n*   **Habitable Atmosphere:**\n    *   **Composition:** Nitrogen-Oxygen atmosphere is unique and supports complex life.\n    *   **Density:** Proper density to maintain temperature and pressure, and allowing liquid water.\n    *   **Protection:** Filters harmful radiation.\n*   **Complexity of Life:** The diversity and complexity of life on Earth are unmatched by anything we've discovered elsewhere. From single-celled organisms to complex multicellular creatures, Earth's biosphere is incredibly rich.\n*   **Technological Civilization:** Earth is the only planet we know of that has developed a technological civilization capable of space exploration and advanced scientific inquiry.\n\n**Important Considerations:**\n\n*   **Our Limited Perspective:** It's crucial to remember that our understanding of other planets is limited by our current technology and observations. We've only explored a tiny fraction of the galaxy, and there may be planets out there that are even more unique than Earth.\n*   **Definition of \"Unique\":** What we consider \"unique\" is based on our current understanding of physics, chemistry, and biology. As our knowledge expands, our definition of uniqueness may change.\n*   **Evolving Knowledge:** Our knowledge of exoplanets is rapidly increasing. New discoveries are constantly being made, and some of the \"unique\" features of Earth may eventually be found on other planets.\n\nThis list represents our current understanding of what makes Earth special. It's an exciting area of ongoing research, and future discoveries may reveal even more ways in which our planet stands out.\n"
          },
          "metadata": {}
        }
      ],
      "source": [
        "prompt = \"Generate a list of ways that makes Earth unique compared to other planets\"\n",
        "\n",
        "response = client.models.generate_content(model=MODEL_ID, contents=prompt)\n",
        "display(Markdown(response.text))"
      ]
    },
    {
      "cell_type": "markdown",
      "metadata": {
        "id": "R5kmfZYHZsJ7"
      },
      "source": [
        "### Ask one task at a time"
      ]
    },
    {
      "cell_type": "markdown",
      "metadata": {
        "id": "rsAezxeYZuUN"
      },
      "source": [
        "🛑 Not recommended. The prompt below has two parts to the question that could be asked separately."
      ]
    },
    {
      "cell_type": "code",
      "execution_count": 12,
      "metadata": {
        "id": "ElywPXpuZtWf",
        "colab": {
          "base_uri": "https://localhost:8080/",
          "height": 923
        },
        "outputId": "5075633b-de36-4650-f4be-6ca224ad38ba"
      },
      "outputs": [
        {
          "output_type": "display_data",
          "data": {
            "text/plain": [
              "<IPython.core.display.Markdown object>"
            ],
            "text/markdown": "Let's tackle these two very different questions!\n\n**Best Method of Boiling Water**\n\nThere's no single \"best\" method, as it depends on your situation and priorities. Here's a breakdown:\n\n*   **Electric Kettle:**\n    *   **Pros:** Fastest, most energy-efficient for small quantities (e.g., one or two cups).  Many have automatic shut-off for safety.\n    *   **Cons:**  Requires electricity. Can't be used during power outages. Limited capacity.\n    *   **Ideal For:**  Quick cups of tea, coffee, or instant noodles.\n\n*   **Stovetop Kettle (Gas or Electric):**\n    *   **Pros:**  Faster than a saucepan on the stove, especially a gas stove.  No electricity required if using a gas stove. Some have whistles to indicate when boiling.\n    *   **Cons:**  Requires stovetop. Can sometimes be less energy-efficient than an electric kettle for small amounts.\n    *   **Ideal For:**  Larger quantities of water than an electric kettle.\n\n*   **Saucepan on Stovetop (Gas or Electric):**\n    *   **Pros:**  Versatile – you already have a saucepan.  No special equipment required.\n    *   **Cons:**  Slowest method. Can be less energy-efficient.  Easy to forget about and boil dry.\n    *   **Ideal For:**  When you don't have a kettle, or when you need to boil a very large quantity of water.\n\n*   **Microwave:**\n    *   **Pros:** Relatively quick for small amounts.\n    *   **Cons:**  Can be dangerous – superheating (water exceeding boiling point without appearing to boil) can cause explosive boiling when disturbed. Uneven heating.  Not ideal for large quantities.  Many people believe it affects the taste of the water, though this is subjective.\n    *   **Ideal For:**  Quick, small amounts *with caution* and only if other options are unavailable. Never heat water with anything else in it (like sugar) in the microwave. Always use a microwave safe container.\n\n**So, the best method ultimately depends on:**\n\n*   **Speed:** Electric kettles are generally the fastest.\n*   **Quantity:** Stovetop kettles or saucepans are better for large amounts.\n*   **Energy Efficiency:** Electric kettles are generally more efficient for small quantities.\n*   **Availability:** What equipment do you already have?\n*   **Power Source:**  Do you need a method that works during a power outage?\n\nFor most people, an **electric kettle** is the best all-around choice for its speed, efficiency, and convenience.\n\n**Why is the Sky Blue?**\n\nThe sky is blue because of a phenomenon called **Rayleigh scattering**. Here's a simplified explanation:\n\n1.  **Sunlight and the Atmosphere:** Sunlight is actually made up of all the colors of the rainbow. When sunlight enters Earth's atmosphere, it collides with tiny air molecules (mostly nitrogen and oxygen).\n\n2.  **Scattering of Light:** This collision causes the light to scatter in different directions. The amount of scattering depends on the wavelength (color) of the light.\n\n3.  **Rayleigh Scattering:** Rayleigh scattering is more effective at scattering shorter wavelengths of light (blue and violet) than longer wavelengths (red and orange).\n\n4.  **Why Not Violet?** Violet light is scattered even *more* than blue light. However, the sun emits less violet light than blue light. Also, our eyes are more sensitive to blue light than violet light. As a result, we perceive the sky as blue.\n\n**In summary:** The air molecules in the atmosphere scatter sunlight, and blue light is scattered more effectively than other colors due to its shorter wavelength. This scattered blue light reaches our eyes from all directions, making the sky appear blue.\n\n**Why Sunsets are Red/Orange:**\n\nWhen the sun is low on the horizon (at sunrise or sunset), the sunlight has to travel through a much greater distance of the atmosphere.  As the sunlight travels, most of the blue light is scattered away.  This leaves the longer wavelengths of light (red and orange) to reach our eyes, creating the beautiful sunset colors.\n\n"
          },
          "metadata": {}
        }
      ],
      "source": [
        "prompt = \"What's the best method of boiling water and why is the sky blue?\"\n",
        "\n",
        "response = client.models.generate_content(model=MODEL_ID, contents=prompt)\n",
        "display(Markdown(response.text))"
      ]
    },
    {
      "cell_type": "markdown",
      "metadata": {
        "id": "ejzahazBZ8vk"
      },
      "source": [
        "✅ Recommended. The prompts below asks one task a time."
      ]
    },
    {
      "cell_type": "code",
      "execution_count": 13,
      "metadata": {
        "id": "C5ckp2F0Z_Ba",
        "colab": {
          "base_uri": "https://localhost:8080/",
          "height": 1000
        },
        "outputId": "71fb1055-ca60-4829-adbe-1d6394680e5e"
      },
      "outputs": [
        {
          "output_type": "display_data",
          "data": {
            "text/plain": [
              "<IPython.core.display.Markdown object>"
            ],
            "text/markdown": "The \"best\" method of boiling water depends on your priorities: speed, efficiency, convenience, and what equipment you have available. Here's a breakdown of common methods:\n\n**1. Electric Kettle:**\n\n*   **Pros:**\n    *   **Fastest:** Typically the fastest method, especially for smaller quantities.\n    *   **Efficient:** Electricity is directly converted to heat within the kettle, minimizing waste.\n    *   **Convenient:** Auto shut-off features prevent boiling dry and potential fire hazards. Cordless kettles are easy to fill and pour.\n    *   **Precise:** Some kettles have temperature control, ideal for specific types of tea.\n*   **Cons:**\n    *   Requires electricity.\n    *   Capacity limited to the kettle size.\n    *   Can be noisy.\n    *   Initial purchase cost.\n\n**2. Stovetop Kettle:**\n\n*   **Pros:**\n    *   Versatile: Works on gas, electric, induction, and even some camping stoves.\n    *   No reliance on electricity in case of a power outage (if using gas).\n    *   Often larger capacity than electric kettles.\n    *   Can be aesthetically pleasing.\n*   **Cons:**\n    *   Slower than electric kettles.\n    *   Requires monitoring to prevent boiling dry.\n    *   Less energy efficient than electric kettles because more energy is lost to heating the air around the pot.\n\n**3. Microwave:**\n\n*   **Pros:**\n    *   Fast for small quantities.\n    *   Convenient if you already have a microwave.\n*   **Cons:**\n    *   **Uneven heating:** Water can superheat (become hotter than its boiling point without boiling), which can cause a dangerous eruption of steam when disturbed. **USE CAUTION.** Place a wooden stick or chopstick in the water to help prevent superheating.\n    *   Not very efficient.\n    *   Can be messy if it boils over.\n    *   Not ideal for large quantities.\n    *   Can negatively impact the taste of some liquids due to the way microwaves heat.\n\n**4. Stovetop Pot:**\n\n*   **Pros:**\n    *   Versatile: Works on various stovetops.\n    *   Can boil large quantities.\n    *   No extra equipment needed if you already have a pot.\n*   **Cons:**\n    *   Slower than electric kettles.\n    *   Requires monitoring to prevent boiling dry.\n    *   Less energy efficient, as more heat escapes from the open pot.\n\n**5. Induction Cooktop with Appropriate Cookware:**\n\n*   **Pros:**\n    *   Very efficient: Heat is directly induced into the pot material.\n    *   Fast: Often faster than gas or electric coil stovetops.\n    *   Precise: Temperature can be carefully controlled.\n*   **Cons:**\n    *   Requires induction-compatible cookware (stainless steel or cast iron).\n    *   Requires electricity.\n    *   Higher initial cost for the cooktop itself.\n\n**Here's a table summarizing the factors:**\n\n| Method          | Speed     | Efficiency | Convenience | Capacity     | Pros                                                                                                                               | Cons                                                                                                                                   |\n|-----------------|-----------|------------|-------------|--------------|--------------------------------------------------------------------------------------------------------------------------------------|---------------------------------------------------------------------------------------------------------------------------------------|\n| Electric Kettle | Very Fast | High       | Very High   | Small-Medium | Fastest, efficient, safe, convenient, sometimes temperature control                                                                       | Requires electricity, limited capacity, can be noisy, initial cost                                                                 |\n| Stovetop Kettle | Moderate  | Moderate   | Moderate    | Medium-Large | Versatile, no reliance on electricity (gas), larger capacity, can be aesthetically pleasing                                              | Slower, requires monitoring, less energy efficient                                                                                    |\n| Microwave       | Fast (small)| Low        | High        | Small        | Fast for small amounts, convenient if you have a microwave                                                                                  | Uneven heating, can superheat, not efficient, can be messy, can impact taste                                                          |\n| Stovetop Pot    | Moderate  | Low        | Moderate    | Large        | Versatile, can boil large quantities, no extra equipment needed                                                                              | Slower, requires monitoring, less energy efficient                                                                                    |\n| Induction       | Fast      | High       | Moderate    | Medium-Large | Very efficient, fast, precise temperature control                                                                                        | Requires induction-compatible cookware, requires electricity, higher initial cost                                                      |\n\n**Conclusion:**\n\n*   **For speed and efficiency:** An **electric kettle** is generally the best option.\n*   **For versatility and use during power outages (with gas):** A **stovetop kettle** is a good choice.\n*   **For small amounts and convenience (with caution):** A **microwave** *can* be used, but be extremely careful to prevent superheating.  A wooden stick or chopstick in the water *helps* prevent this, but doesn't guarantee it.\n*   **For large quantities:** A **stovetop pot** is suitable.\n*   **If you have an induction cooktop:** Using a **compatible pot** is a fast and efficient method.\n\nUltimately, the \"best\" method depends on your specific situation and needs. Consider your priorities and the equipment you have available. No matter which method you choose, always exercise caution when handling boiling water to avoid burns.\n"
          },
          "metadata": {}
        }
      ],
      "source": [
        "prompt = \"What's the best method of boiling water?\"\n",
        "\n",
        "response = client.models.generate_content(model=MODEL_ID, contents=prompt)\n",
        "display(Markdown(response.text))"
      ]
    },
    {
      "cell_type": "code",
      "execution_count": 14,
      "metadata": {
        "id": "KwUzhud4aA89",
        "colab": {
          "base_uri": "https://localhost:8080/",
          "height": 510
        },
        "outputId": "ba21d1be-362c-49de-efd8-5a40203fd8f4"
      },
      "outputs": [
        {
          "output_type": "display_data",
          "data": {
            "text/plain": [
              "<IPython.core.display.Markdown object>"
            ],
            "text/markdown": "The sky appears blue due to a phenomenon called **Rayleigh scattering**. Here's a breakdown of why:\n\n*   **Sunlight is composed of all colors:** Sunlight, which appears white to our eyes, is actually made up of all the colors of the rainbow (red, orange, yellow, green, blue, indigo, violet).\n\n*   **Entering the atmosphere:** When sunlight enters the Earth's atmosphere, it collides with tiny air molecules (mostly nitrogen and oxygen).\n\n*   **Scattering of light:** This collision causes the light to scatter in different directions.\n\n*   **Rayleigh scattering is wavelength-dependent:** Rayleigh scattering is more effective at shorter wavelengths (blue and violet light) than at longer wavelengths (red and orange light). This is because the shorter wavelengths have more energy and are more easily absorbed and re-emitted (scattered) by the air molecules.\n\n*   **Why not violet?** Violet light is scattered even more than blue light. However, our eyes are more sensitive to blue light, and the sun emits slightly less violet light than blue light. Also, some of the violet light is absorbed higher in the atmosphere.\n\n*   **The result: a blue sky:** Because blue light is scattered much more than other colors, it is dispersed across the sky in all directions. This is why when we look up, we see blue light coming from everywhere, making the sky appear blue.\n\n**In summary:**\n\n1.  Sunlight enters the atmosphere.\n2.  Shorter wavelengths (blue and violet) are scattered more effectively by air molecules (Rayleigh scattering).\n3.  Our eyes are more sensitive to blue, and there is more blue light in sunlight than violet.\n4.  Therefore, we perceive the sky as blue.\n\n**Think of it like this:** Imagine throwing a bunch of marbles (sunlight) at a bunch of small pebbles (air molecules). Smaller marbles (blue light) will bounce off in all directions more easily than larger marbles (red light).\n\n**Why are sunsets red?**\n\nWhen the sun is low on the horizon (during sunrise and sunset), sunlight has to travel through much more of the atmosphere to reach our eyes. This means that most of the blue light has already been scattered away by the time the light reaches us. The longer wavelengths, like red and orange, are less scattered, so they are able to pass through the atmosphere and reach our eyes, giving us the beautiful red and orange colors we see during sunsets.\n"
          },
          "metadata": {}
        }
      ],
      "source": [
        "prompt = \"Why is the sky blue?\"\n",
        "\n",
        "response = client.models.generate_content(model=MODEL_ID, contents=prompt)\n",
        "display(Markdown(response.text))"
      ]
    },
    {
      "cell_type": "markdown",
      "metadata": {
        "id": "PJIL2RTQaGcT"
      },
      "source": [
        "### Watch out for hallucinations"
      ]
    },
    {
      "cell_type": "markdown",
      "metadata": {
        "id": "8Y8kYxrSaHE9"
      },
      "source": [
        "Although LLMs have been trained on a large amount of data, they can generate text containing statements not grounded in truth or reality; these responses from the LLM are often referred to as \"hallucinations\" due to their limited memorization capabilities. Note that simply prompting the LLM to provide a citation isn't a fix to this problem, as there are instances of LLMs providing false or inaccurate citations. Dealing with hallucinations is a fundamental challenge of LLMs and an ongoing research area, so it is important to be cognizant that LLMs may seem to give you confident, correct-sounding statements that are in fact incorrect.\n",
        "\n",
        "Note that if you intend to use LLMs for the creative use cases, hallucinating could actually be quite useful."
      ]
    },
    {
      "cell_type": "markdown",
      "metadata": {
        "id": "8NY5nAGeaJYS"
      },
      "source": [
        "Try the prompt like the one below repeatedly. We set the temperature to `1.0` so that it takes more risks in its choices. It's possible that it may provide an inaccurate, but confident answer."
      ]
    },
    {
      "cell_type": "code",
      "execution_count": 15,
      "metadata": {
        "id": "QALPjEILaM62",
        "colab": {
          "base_uri": "https://localhost:8080/",
          "height": 46
        },
        "outputId": "20e4694d-e4f4-4340-a333-39756b39097c"
      },
      "outputs": [
        {
          "output_type": "display_data",
          "data": {
            "text/plain": [
              "<IPython.core.display.Markdown object>"
            ],
            "text/markdown": "Today is Sunday, September 3, 2023.\n"
          },
          "metadata": {}
        }
      ],
      "source": [
        "generation_config = GenerateContentConfig(temperature=1.0)\n",
        "\n",
        "prompt = \"What day is it today?\"\n",
        "\n",
        "response = client.models.generate_content(model=MODEL_ID, contents=prompt)\n",
        "display(Markdown(response.text))"
      ]
    },
    {
      "cell_type": "markdown",
      "metadata": {
        "id": "BRkwzbgRbhKt"
      },
      "source": [
        "Since LLMs do not have access to real-time information without further integrations, you may have noticed it hallucinates what day it is today in some of the outputs."
      ]
    },
    {
      "cell_type": "markdown",
      "metadata": {
        "id": "3c811e310d02"
      },
      "source": [
        "### Using system instructions to guardrail the model from irrelevant responses\n",
        "\n",
        "How can we attempt to reduce the chances of irrelevant responses and hallucinations?\n",
        "\n",
        "One way is to provide the LLM with [system instructions](https://cloud.google.com/vertex-ai/generative-ai/docs/multimodal/send-chat-prompts-gemini#system-instructions).\n",
        "\n",
        "Let's see how system instructions works and how you can use them to reduce hallucinations or irrelevant questions for a travel chatbot.\n",
        "\n",
        "Suppose we ask a simple question about one of Italy's most famous tourist spots."
      ]
    },
    {
      "cell_type": "code",
      "execution_count": 17,
      "metadata": {
        "id": "rB6zJU76biFK",
        "colab": {
          "base_uri": "https://localhost:8080/",
          "height": 139
        },
        "outputId": "6581bcbd-f665-41a0-d84e-a6cfadb039ce"
      },
      "outputs": [
        {
          "output_type": "display_data",
          "data": {
            "text/plain": [
              "<IPython.core.display.Markdown object>"
            ],
            "text/markdown": "Bilbao, Spain, offers a variety of great sightseeing locations. Here are a few recommendations:\n\n*   **Guggenheim Museum Bilbao:** A must-see modern art museum with a unique architectural design.\n*   **Casco Viejo (Old Town):** Wander through the historic streets, filled with shops, restaurants, and cultural landmarks.\n*   **Mercado de la Ribera:** One of the largest covered markets in Europe, offering a wide array of local produce and goods.\n*   **Zubizuri Bridge:** A modern pedestrian bridge designed by Santiago Calatrava, offering scenic views of the city.\n*   **Artxanda Funicular:** Ride up Mount Artxanda for panoramic views of Bilbao and the surrounding landscape."
          },
          "metadata": {}
        }
      ],
      "source": [
        "generation_config = GenerateContentConfig(temperature=1.0)\n",
        "\n",
        "chat = client.chats.create(\n",
        "    model=MODEL_ID,\n",
        "    config=GenerateContentConfig(\n",
        "        system_instruction=[\n",
        "            \"Hello! You are an AI chatbot for a travel web site.\",\n",
        "            \"Your mission is to provide helpful queries for travelers.\",\n",
        "            \"Remember that before you answer a question, you must check to see if it complies with your mission.\",\n",
        "            \"If not, you can say, Sorry I can't answer that question.\",\n",
        "        ]\n",
        "    ),\n",
        ")\n",
        "\n",
        "prompt = \"What is the best place for sightseeing in Bilbao, Spain?\"\n",
        "\n",
        "response = chat.send_message(prompt)\n",
        "display(Markdown(response.text))"
      ]
    },
    {
      "cell_type": "markdown",
      "metadata": {
        "id": "WZa-Qcf9cF4A"
      },
      "source": [
        "Now let us pretend to be a user asks the chatbot a question that is unrelated to travel."
      ]
    },
    {
      "cell_type": "code",
      "execution_count": null,
      "metadata": {
        "id": "AZKBIDr2cGnu"
      },
      "outputs": [],
      "source": [
        "prompt = \"What is the best place for sightseeing in Milan, Italy?\"\n",
        "\n",
        "response = chat.send_message(prompt)\n",
        "display(Markdown(response.text))"
      ]
    },
    {
      "cell_type": "markdown",
      "metadata": {
        "id": "JiUYIhwpctCy"
      },
      "source": [
        "You can see that this way, a guardrail in the prompt prevented the chatbot from veering off course."
      ]
    },
    {
      "cell_type": "markdown",
      "metadata": {
        "id": "ZuuDhA37cvmP"
      },
      "source": [
        "### Turn generative tasks into classification tasks to reduce output variability"
      ]
    },
    {
      "cell_type": "markdown",
      "metadata": {
        "id": "kUCUrsUzczmb"
      },
      "source": [
        "#### Generative tasks lead to higher output variability"
      ]
    },
    {
      "cell_type": "markdown",
      "metadata": {
        "id": "a1xASHAkc46n"
      },
      "source": [
        "The prompt below results in an open-ended response, useful for brainstorming, but response is highly variable."
      ]
    },
    {
      "cell_type": "code",
      "execution_count": 18,
      "metadata": {
        "id": "nPfXQWIacwRf",
        "colab": {
          "base_uri": "https://localhost:8080/",
          "height": 1000
        },
        "outputId": "316118a9-9b9f-4b76-a08a-1758a5447476"
      },
      "outputs": [
        {
          "output_type": "display_data",
          "data": {
            "text/plain": [
              "<IPython.core.display.Markdown object>"
            ],
            "text/markdown": "Okay, here's a programming activity recommendation tailored for a high school student looking to improve their skills, broken down by skill level and with explanations of why they're good choices:\n\n**Considering Factors:**\n\n*   **Your Current Skill Level:**  Are you a complete beginner, somewhat familiar with a language, or quite comfortable with basic concepts?\n*   **Your Interests:**  Do you like games, web development, data analysis, problem-solving challenges?  Choosing something you're interested in will keep you motivated.\n*   **Time Commitment:**  How much time per week can you realistically dedicate to this activity?\n*   **Access to Resources:**  Do you have access to a good computer, internet, and potentially helpful mentors or online communities?\n\n**Here's a breakdown of recommendations by skill level, along with explanations:**\n\n**Beginner (Little to No Programming Experience):**\n\n*   **Activity:** **Interactive Python Tutorial (like Codecademy or freeCodeCamp)**\n    *   **Description:**  Work through an interactive Python tutorial.  These platforms provide bite-sized lessons, immediate feedback, and often a built-in code editor.\n    *   **Why it's good:**  Python is beginner-friendly, readable, and widely used.  Interactive tutorials make learning engaging and help you grasp the fundamental concepts (variables, data types, loops, conditional statements).  They also introduce you to the syntax and structure of programming.\n    *   **Expected Outcome:**  Ability to write simple Python programs that perform basic calculations, manipulate text, and make decisions based on user input.  You'll understand the core concepts of programming.\n    *   **Example:**  Codecademy's \"Learn Python 3\" course, freeCodeCamp's \"Scientific Computing with Python\"\n*   **Activity:** **Block-Based Programming (Scratch)**\n    *   **Description:** Use a visual programming language like Scratch.  You drag and drop blocks to create animations, games, and interactive stories.\n    *   **Why it's good:**  Scratch removes the intimidation factor of text-based coding. It helps you learn the *logic* of programming (sequences, loops, conditions) without worrying about syntax errors.  It's fun and encourages creativity.\n    *   **Expected Outcome:**  Ability to design and build simple interactive projects.  You'll understand fundamental programming concepts in a visual and engaging way.\n    *   **Example:**  Go to the Scratch website ([https://scratch.mit.edu/](https://scratch.mit.edu/)) and work through some of the tutorials.\n\n**Intermediate (Some Programming Experience - You know the basics):**\n\n*   **Activity:** **\"100 Days of Code\" Challenge (with a Project Focus)**\n    *   **Description:**  Commit to coding for at least one hour every day for 100 days. *Crucially*, each day should have a specific mini-project or coding goal. Don't just do random tutorials; build something.\n    *   **Why it's good:**  Reinforces learned concepts and builds consistency.  Working on projects helps you apply your knowledge, learn how to debug, and develop problem-solving skills. The daily commitment encourages discipline.\n    *   **Project Ideas (choose one and break it into smaller tasks for your 100 days):**\n        *   **Text-Based Adventure Game:**  A simple game where the player navigates a world by typing commands.\n        *   **To-Do List App:** A program to manage tasks, with features like adding, deleting, and marking tasks as complete.\n        *   **Simple Calculator:** An enhanced calculator with more functionality (e.g., scientific functions, unit conversions).\n        *   **Basic Web Scraper:**  A program to extract specific data from a website. (Be mindful of website terms of service).\n        *   **Simple Chatbot:**  A chatbot that responds to basic user inputs.\n    *   **Expected Outcome:**  Significantly improved programming skills, experience with project development, and a portfolio piece.\n*   **Activity:** **Solve Problems on Coding Challenge Websites (LeetCode, HackerRank, Codewars)**\n    *   **Description:**  Practice solving algorithmic problems of varying difficulty.\n    *   **Why it's good:**  Sharpens problem-solving skills, improves understanding of data structures and algorithms, and prepares you for technical interviews (useful for future internships or jobs).\n    *   **How to Approach It:** Start with easier problems and gradually increase the difficulty.  Focus on understanding the *why* behind the solutions, not just copying code.\n    *   **Example:** Start with the \"Easy\" section on LeetCode.  Focus on problems related to arrays, strings, and basic algorithms.\n*   **Activity:** **Contribute to an Open-Source Project (Start Small!)**\n    *   **Description:** Find a small, well-documented open-source project that interests you and contribute a small change (e.g., fix a bug, improve documentation).\n    *   **Why it's good:**  Provides real-world experience, exposes you to collaborative coding practices, and helps you learn how to work with version control (Git).\n    *   **How to Approach It:** Start by reading the project's documentation and contributing guidelines.  Find a \"good first issue\" (many projects tag issues specifically for newcomers).\n    *   **Example:** Look for beginner-friendly projects on GitHub with tags like \"good first issue\" or \"help wanted.\"\n*   **Activity:** **Web Development Fundamentals (HTML, CSS, JavaScript)**\n    *   **Description:**  Learn the basics of web development and build a simple website.\n    *   **Why it's good:**  Web development is in high demand, and it's a great way to create something visual and interactive.\n    *   **How to Approach It:** Start with HTML for structuring content, then CSS for styling, and finally JavaScript for adding interactivity.\n    *   **Example:**  freeCodeCamp's \"Responsive Web Design\" and \"JavaScript Algorithms and Data Structures\" certifications are excellent resources.  Build a personal portfolio website or a simple blog.\n\n**Advanced (Comfortable with Multiple Languages and Concepts):**\n\n*   **Activity:** **Build a More Complex Application (e.g., Full-Stack Web App, Mobile App, Game)**\n    *   **Description:**  Choose a project that challenges your skills and requires you to learn new technologies.\n    *   **Why it's good:**  Forces you to integrate multiple concepts, design a larger system, and overcome significant challenges.\n    *   **Examples:**\n        *   **Full-Stack Web App:** A web app with a front-end (user interface) built with React, Angular, or Vue.js, and a back-end (server-side logic) built with Node.js, Python (with Django or Flask), or Ruby on Rails.  Include a database (e.g., PostgreSQL, MySQL).\n        *   **Mobile App:** A native mobile app for iOS (using Swift) or Android (using Kotlin or Java), or a cross-platform app using React Native or Flutter.\n        *   **Game:** A more complex game with multiple levels, AI opponents, and advanced graphics (using a game engine like Unity or Godot).\n*   **Activity:** **Deep Dive into a Specific Area (e.g., Machine Learning, Data Science, Cybersecurity)**\n    *   **Description:**  Focus on a specific area of computer science and learn advanced concepts and techniques.\n    *   **Why it's good:**  Allows you to specialize and develop expertise in a high-demand field.\n    *   **Examples:**\n        *   **Machine Learning:** Learn about supervised and unsupervised learning, neural networks, and deep learning using libraries like TensorFlow or PyTorch.\n        *   **Data Science:** Learn about data analysis, data visualization, and statistical modeling using libraries like Pandas, NumPy, and Matplotlib.\n        *   **Cybersecurity:** Learn about network security, cryptography, and penetration testing.\n*   **Activity:** **Participate in Coding Competitions (Hackathons, ICPC)**\n    *   **Description:**  Test your skills against other programmers in a competitive environment.\n    *   **Why it's good:**  Provides a challenging and rewarding experience, helps you learn from others, and can lead to valuable networking opportunities.\n\n**General Tips for Success:**\n\n*   **Set Realistic Goals:** Don't try to do too much too quickly.  Start small and gradually increase the difficulty.\n*   **Be Consistent:**  Regular practice is key to improving your skills.  Even 30 minutes a day is better than sporadic long sessions.\n*   **Don't Be Afraid to Ask for Help:**  Join online communities (Stack Overflow, Reddit), ask your teachers or mentors, and don't hesitate to Google your questions.\n*   **Practice Debugging:**  Learning how to find and fix errors is a crucial skill.  Use debugging tools and learn to read error messages carefully.\n*   **Stay Curious and Keep Learning:**  The field of computer science is constantly evolving, so it's important to stay up-to-date with the latest trends and technologies.\n*   **Document Your Code:** Adding comments to explain what your code does is a great habit to form.\n*   **Use Version Control:**  Learn how to use Git and GitHub to track your code changes and collaborate with others.\n\n**To give you a *more* tailored recommendation, tell me:**\n\n1.  **What languages do you currently know (even a little bit)?**\n2.  **What are you *most* interested in (games, web dev, data, etc.)?**\n3.  **How much time can you dedicate per week?**\n\nGood luck!  Have fun coding!\n"
          },
          "metadata": {}
        }
      ],
      "source": [
        "prompt = \"I'm a high school student. Recommend me a programming activity to improve my skills.\"\n",
        "\n",
        "response = client.models.generate_content(model=MODEL_ID, contents=prompt)\n",
        "display(Markdown(response.text))"
      ]
    },
    {
      "cell_type": "markdown",
      "metadata": {
        "id": "iAmm9wPYc_1o"
      },
      "source": [
        "#### Classification tasks reduces output variability"
      ]
    },
    {
      "cell_type": "markdown",
      "metadata": {
        "id": "VvRpK_0GdCpf"
      },
      "source": [
        "The prompt below results in a choice and may be useful if you want the output to be easier to control."
      ]
    },
    {
      "cell_type": "code",
      "execution_count": 19,
      "metadata": {
        "id": "kYDKh0r2dAqo",
        "colab": {
          "base_uri": "https://localhost:8080/",
          "height": 1000
        },
        "outputId": "9149574f-1292-4f76-cb58-f070dc9dc91f"
      },
      "outputs": [
        {
          "output_type": "display_data",
          "data": {
            "text/plain": [
              "<IPython.core.display.Markdown object>"
            ],
            "text/markdown": "Okay, for a high school student looking to learn a programming language, I would **strongly recommend either Python or JavaScript over Fortran.** Here's why:\n\n**1. Python:**\n\n*   **Pros:**\n    *   **Beginner-Friendly:** Python is known for its clear, readable syntax. It's often the first language recommended to new programmers because it's easier to grasp the fundamentals.\n    *   **Versatile:** Python has a HUGE range of applications. You can use it for:\n        *   **Web Development (backend):** Creating server-side logic for websites and applications (using frameworks like Django and Flask).\n        *   **Data Science and Machine Learning:**  Analyzing data, building machine learning models (using libraries like NumPy, Pandas, Scikit-learn).  This is a rapidly growing field.\n        *   **Scripting and Automation:**  Automating tasks on your computer, writing scripts to process files, etc.\n        *   **Game Development:**  Developing games using libraries like Pygame.\n        *   **Scientific Computing:** (Although not as specialized as Fortran, Python is increasingly used in scientific computing).\n    *   **Large Community and Resources:**  There's a massive online community of Python developers.  You'll find tons of tutorials, documentation, Stack Overflow answers, and libraries to help you learn and solve problems.  This is a HUGE advantage when you're starting out.\n    *   **Good Job Market:**  Python skills are in high demand in many industries. If you decide to pursue a career in tech, Python is a valuable asset.\n    *   **Great for High School Projects:** Python is excellent for coding projects in science, math, and other subjects. You can use it to simulate experiments, analyze data, create visualizations, and more.\n\n*   **Cons:**\n    *   **Can be slower than compiled languages:** For computationally intensive tasks (like those Fortran is designed for), Python might not be the fastest option, but this is often negligible, and can be improved with proper coding practices.\n\n**2. JavaScript:**\n\n*   **Pros:**\n    *   **Essential for Web Development (frontend):**  JavaScript is *the* language of the web browser. If you want to build interactive websites, web applications, or user interfaces, you need to know JavaScript.\n    *   **Frontend and Backend (with Node.js):** While primarily a frontend language, JavaScript can also be used for backend development using Node.js.  This allows you to build full-stack applications with a single language.\n    *   **Huge Ecosystem:**  JavaScript has a massive ecosystem of frameworks and libraries (like React, Angular, Vue.js) that simplify web development.\n    *   **Interactive and Visual:** JavaScript lets you create dynamic and engaging web experiences. You can manipulate the DOM (Document Object Model) to change the content and style of a webpage in response to user actions.\n    *   **Easily Accessible:** You can start writing JavaScript code directly in your web browser's developer console. No complicated setup is required.\n\n*   **Cons:**\n    *   **Can be a bit quirky:** JavaScript has some historical quirks and inconsistencies that can be confusing for beginners.\n    *   **Security Concerns:**  Frontend code is exposed to the user, so you need to be careful about security vulnerabilities.\n\n**3. Fortran:**\n\n*   **Pros:**\n    *   **Optimized for Scientific Computing and Numerical Analysis:** Fortran is designed for high-performance numerical computation. It's very efficient for tasks like weather forecasting, computational fluid dynamics, and simulations.\n    *   **Mature Language:** Fortran has been around for a long time (since the 1950s), so there's a lot of legacy code written in it.\n    *   **Good Performance:** It's a compiled language, which means it can often execute faster than interpreted languages like Python.\n\n*   **Cons:**\n    *   **Less Versatile:** Fortran is primarily focused on scientific computing. It's not as well-suited for general-purpose programming tasks like web development or data science.\n    *   **Steeper Learning Curve:** Fortran's syntax and programming paradigms can be less intuitive than Python's or JavaScript's.\n    *   **Smaller Community:** The Fortran community is smaller than the Python or JavaScript communities, so it might be harder to find help when you get stuck.\n    *   **Less Job Market:** The job market for Fortran developers is much smaller than the market for Python or JavaScript developers.\n\n**In summary:**\n\n*   **Choose Python if:** You want a beginner-friendly language with a wide range of applications, especially in data science, scripting, and automation.\n*   **Choose JavaScript if:** You are interested in web development and want to build interactive websites and web applications.\n*   **Avoid Fortran (for now) if:** You're just starting out and want a language with broader applicability and a larger community.  While Fortran is valuable in specific scientific fields, it's not the best choice for a first language.  You can always learn it later if you find yourself needing it for a specific project.\n\n**Therefore, my recommendation is to start with either Python or JavaScript.  Think about what *kind* of projects you'd like to build.  If you want to make websites, choose JavaScript.  If you want to analyze data or automate tasks, choose Python.** Good luck!\n"
          },
          "metadata": {}
        }
      ],
      "source": [
        "prompt = \"\"\"I'm a high school student. Which of these activities do you suggest and why:\n",
        "a) learn Python\n",
        "b) learn JavaScript\n",
        "c) learn Fortran\n",
        "\"\"\"\n",
        "\n",
        "response = client.models.generate_content(model=MODEL_ID, contents=prompt)\n",
        "display(Markdown(response.text))"
      ]
    },
    {
      "cell_type": "markdown",
      "metadata": {
        "id": "iTd60b1GdIsx"
      },
      "source": [
        "### Improve response quality by including examples"
      ]
    },
    {
      "cell_type": "markdown",
      "metadata": {
        "id": "yJi44NejdJYE"
      },
      "source": [
        "Another way to improve response quality is to add examples in your prompt. The LLM learns in-context from the examples on how to respond. Typically, one to five examples (shots) are enough to improve the quality of responses. Including too many examples can cause the model to over-fit the data and reduce the quality of responses.\n",
        "\n",
        "Similar to classical model training, the quality and distribution of the examples is very important. Pick examples that are representative of the scenarios that you need the model to learn, and keep the distribution of the examples (e.g. number of examples per class in the case of classification) aligned with your actual distribution."
      ]
    },
    {
      "cell_type": "markdown",
      "metadata": {
        "id": "sMbLginWdOKs"
      },
      "source": [
        "#### Zero-shot prompt"
      ]
    },
    {
      "cell_type": "markdown",
      "metadata": {
        "id": "Crh2Loi2dQ0v"
      },
      "source": [
        "Below is an example of zero-shot prompting, where you don't provide any examples to the LLM within the prompt itself."
      ]
    },
    {
      "cell_type": "code",
      "execution_count": 20,
      "metadata": {
        "id": "-7myRc-SdTQ4",
        "colab": {
          "base_uri": "https://localhost:8080/",
          "height": 46
        },
        "outputId": "bf101244-0fa9-4fce-861e-488b3803726c"
      },
      "outputs": [
        {
          "output_type": "display_data",
          "data": {
            "text/plain": [
              "<IPython.core.display.Markdown object>"
            ],
            "text/markdown": "Sentiment: Positive\n"
          },
          "metadata": {}
        }
      ],
      "source": [
        "prompt = \"\"\"Decide whether a Tweet's sentiment is positive, neutral, or negative.\n",
        "\n",
        "Tweet: I loved the new YouTube video you made!\n",
        "Sentiment:\n",
        "\"\"\"\n",
        "\n",
        "response = client.models.generate_content(model=MODEL_ID, contents=prompt)\n",
        "display(Markdown(response.text))"
      ]
    },
    {
      "cell_type": "markdown",
      "metadata": {
        "id": "ucRtPn9SdL64"
      },
      "source": [
        "#### One-shot prompt"
      ]
    },
    {
      "cell_type": "markdown",
      "metadata": {
        "id": "rs0gQH2vdYBi"
      },
      "source": [
        "Below is an example of one-shot prompting, where you provide one example to the LLM within the prompt to give some guidance on what type of response you want."
      ]
    },
    {
      "cell_type": "code",
      "execution_count": 21,
      "metadata": {
        "id": "iEq-KxGYdaT5",
        "colab": {
          "base_uri": "https://localhost:8080/",
          "height": 46
        },
        "outputId": "473fa46d-7a02-49f2-baff-e04f9afccf57"
      },
      "outputs": [
        {
          "output_type": "display_data",
          "data": {
            "text/plain": [
              "<IPython.core.display.Markdown object>"
            ],
            "text/markdown": "Sentiment: negative\n"
          },
          "metadata": {}
        }
      ],
      "source": [
        "prompt = \"\"\"Decide whether a Tweet's sentiment is positive, neutral, or negative.\n",
        "\n",
        "Tweet: I loved the new YouTube video you made!\n",
        "Sentiment: positive\n",
        "\n",
        "Tweet: That was awful. Super boring 😠\n",
        "Sentiment:\n",
        "\"\"\"\n",
        "\n",
        "response = client.models.generate_content(model=MODEL_ID, contents=prompt)\n",
        "display(Markdown(response.text))"
      ]
    },
    {
      "cell_type": "markdown",
      "metadata": {
        "id": "JnKLjJzmdfL_"
      },
      "source": [
        "#### Few-shot prompt"
      ]
    },
    {
      "cell_type": "markdown",
      "metadata": {
        "id": "6Zv-9F5OdgI_"
      },
      "source": [
        "Below is an example of few-shot prompting, where you provide a few examples to the LLM within the prompt to give some guidance on what type of response you want."
      ]
    },
    {
      "cell_type": "code",
      "execution_count": 22,
      "metadata": {
        "id": "u37P9tG4dk9S",
        "colab": {
          "base_uri": "https://localhost:8080/",
          "height": 46
        },
        "outputId": "2c251776-a0c9-4c7f-c55b-7d123e66aef1"
      },
      "outputs": [
        {
          "output_type": "display_data",
          "data": {
            "text/plain": [
              "<IPython.core.display.Markdown object>"
            ],
            "text/markdown": "Sentiment: positive\n"
          },
          "metadata": {}
        }
      ],
      "source": [
        "prompt = \"\"\"Decide whether a Tweet's sentiment is positive, neutral, or negative.\n",
        "\n",
        "Tweet: I loved the new YouTube video you made!\n",
        "Sentiment: positive\n",
        "\n",
        "Tweet: That was awful. Super boring 😠\n",
        "Sentiment: negative\n",
        "\n",
        "Tweet: Something surprised me about this video - it was actually original. It was not the same old recycled stuff that I always see. Watch it - you will not regret it.\n",
        "Sentiment:\n",
        "\"\"\"\n",
        "\n",
        "response = client.models.generate_content(model=MODEL_ID, contents=prompt)\n",
        "display(Markdown(response.text))"
      ]
    },
    {
      "cell_type": "markdown",
      "metadata": {
        "id": "wDMD3xb2dvX6"
      },
      "source": [
        "#### Choosing between zero-shot, one-shot, few-shot prompting methods"
      ]
    },
    {
      "cell_type": "markdown",
      "metadata": {
        "id": "s92W0YpNdxJp"
      },
      "source": [
        "Which prompt technique to use will solely depends on your goal. The zero-shot prompts are more open-ended and can give you creative answers, while one-shot and few-shot prompts teach the model how to behave so you can get more predictable answers that are consistent with the examples provided."
      ]
    }
  ],
  "metadata": {
    "colab": {
      "name": "intro_prompt_design.ipynb",
      "toc_visible": true,
      "provenance": [],
      "include_colab_link": true
    },
    "kernelspec": {
      "display_name": "Python 3",
      "name": "python3"
    }
  },
  "nbformat": 4,
  "nbformat_minor": 0
}